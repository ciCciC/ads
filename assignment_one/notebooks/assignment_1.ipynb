{
 "cells": [
  {
   "cell_type": "markdown",
   "metadata": {
    "pycharm": {
     "name": "#%% md\n"
    }
   },
   "source": [
    "# Assignment 1: Data Extraction\n",
    "\n",
    "Student: Koray Poyraz <br>\n",
    "Studentnr: 5367646"
   ]
  },
  {
   "cell_type": "markdown",
   "metadata": {
    "pycharm": {
     "name": "#%% md\n"
    }
   },
   "source": [
    "# Task 1\n",
    "\n",
    "link to database: BikeStoresDatabase on Teams\n",
    "\n",
    "The database represents the relations of a bike store which keeps track of their stores, customers, products etc and manages data such as orders, ordered items.\n",
    "\n",
    "|.     | Tables |\n",
    "| -------|:----:|\n",
    "| amount | 9   |"
   ]
  },
  {
   "cell_type": "markdown",
   "metadata": {},
   "source": [
    "| Relation name   | tuples | description |\n",
    "| ------------ |:----:|:----------:|\n",
    "| stores       | 3    | keeps track of the stores they have |\n",
    "| staffs       | 10   | keeps track of their staffs, such as name, email, phone number ...    |\n",
    "| customers    | 13   | keeps track of their customers such as name, phone, email, address ...  |\n",
    "| brands       | 9    | keeps track of their brands such as name  |\n",
    "| categories   | 7    | keeps track of the categories of their products  |\n",
    "| orders       | 1615 | keeps track of the orders of their customers such as order status, date ...   |\n",
    "| products     | 321  | keeps track of their products such as name, year, brand ...   |\n",
    "| order_items  | 4722 | keeps track of the ordered items such as quantity, product, order ...      |\n",
    "| stocks       | 939  | keeps track of their stocks such as quantity of products they have in stock      |\n",
    "\n",
    "stores(store_id, store_name, )"
   ]
  },
  {
   "cell_type": "markdown",
   "metadata": {
    "pycharm": {
     "name": "#%% md\n"
    }
   },
   "source": [
    "# TASK 2"
   ]
  },
  {
   "cell_type": "markdown",
   "metadata": {
    "pycharm": {
     "name": "#%% md\n"
    }
   },
   "source": [
    "## Q1\n",
    "\n",
    "### NL\n",
    "Display the first name and last name of all customers and the order id of any orders they might have\n",
    "\n",
    "### RA\n",
    "∏ customers.first_name, customers.last_name, o.order_id (customers ⟕ customers.customer_id=o.customer_id Po(orders))\n",
    "\n",
    "### SQL query\n",
    "select customers.first_name, customers.last_name, o.order_id from customers left outer join orders o on customers.customer_id = o.customer_id;"
   ]
  },
  {
   "cell_type": "markdown",
   "metadata": {
    "pycharm": {
     "name": "#%% md\n"
    }
   },
   "source": [
    "# Q2\n",
    "\n",
    "### NL\n",
    "Display count of all customers who don't have a phone number\n",
    "\n",
    "### RA\n",
    "γ count(customer_id) as n_null_values (σ grade=NULL takes)\n",
    "\n",
    "### SQL\n",
    "select count(customer_id) as n_null_values from customers where phone is null;"
   ]
  },
  {
   "cell_type": "markdown",
   "metadata": {
    "pycharm": {
     "name": "#%% md\n"
    }
   },
   "source": [
    "# Q3\n",
    "\n",
    "### NL\n",
    "Display the first and last name of all staffs that has no orders\n",
    "\n",
    "### RA\n",
    "∏ a.first_name, a.last_name\n",
    " (Pa(staffs) -\n",
    "  (∏ b.first_name, b.last_name\n",
    "   (σ b.staff_id=orders.staff_id\n",
    "    (Pb(staffs) X orders))))\n",
    "\n",
    "### SQL\n",
    "select a.first_name, a.last_name from staffs a EXCEPT select b.first_name, b.last_name from staffs b, orders where b.staff_id=orders.staff_id;\n"
   ]
  },
  {
   "cell_type": "markdown",
   "metadata": {
    "pycharm": {
     "name": "#%% md\n"
    }
   },
   "source": [
    "# Q4\n",
    "\n",
    "# NL\n",
    "Display product names of which only 3 are in stock\n",
    "\n",
    "### RA\n",
    "∏ p.product_name, s.quantity (σ s.quantity=3 (Ps(stocks) ⋈ s.product_id=p.product_id Pp(products)))\n",
    "\n",
    "### SQL\n",
    "select p.product_name, s.quantity from stocks s inner join products p on s.product_id=p.product_id where s.quantity = 3;"
   ]
  },
  {
   "cell_type": "markdown",
   "metadata": {
    "pycharm": {
     "name": "#%% md\n"
    }
   },
   "source": [
    "# Q5\n",
    "### NL\n",
    "Display category name and the number of products each category has\n",
    "\n",
    "ps: I decided to only display 5/7 categories by using limit as the question asked for max 5 distinct values.\n",
    "\n",
    "### RA\n",
    "c.category_name $\\gamma$ COUNT() as n_products (products ⋈ c.category_id = products.category_id Pc(categories))\n",
    "\n",
    "### SQL\n",
    "select c.category_name, count() as n_products from products\n",
    "    inner join categories c on c.category_id = products.category_id\n",
    "group by c.category_name\n",
    "limit 5;"
   ]
  },
  {
   "cell_type": "markdown",
   "metadata": {
    "pycharm": {
     "name": "#%% md\n"
    }
   },
   "source": [
    "# Q6\n",
    "\n",
    "### NL\n",
    "Display the records of products that are the max and min prices\n",
    "\n",
    "### RA\n",
    "σ list_price=( $\\gamma$ MIN(list_price)(products)) OR list_price=( $\\gamma$ MAX(list_price)(products)) (products)\n",
    "\n",
    "### SQL\n",
    "select * from products where list_price=(select min(list_price) from products) or list_price=(select max(list_price) from products);"
   ]
  },
  {
   "cell_type": "markdown",
   "metadata": {
    "pycharm": {
     "name": "#%% md\n"
    }
   },
   "source": [
    "# Q7\n",
    "### NL\n",
    "Display all staffs with the staff id, staff name and his/ her managers id and managers name\n",
    "\n",
    "### RA\n",
    "∏ staff_id, staff_name, manager_id, manager_name <br>\n",
    " P(a.staff_id → staff_id, a.first_name → staff_name, b.staff_id → manager_id, b.first_name → manager_name) <br>\n",
    "  (σ a.manager_id = b.staff_id (Pa(staffs) X (Pb(staffs)))\n",
    "\n",
    "### SQL\n",
    "select a.staff_id as staff_id, a.first_name as staff_name, b.staff_id as manager_id, b.first_name as manager_name from staffs a, staffs b where a.manager_id=b.staff_id;"
   ]
  },
  {
   "cell_type": "markdown",
   "metadata": {},
   "source": [
    "# TASK 3"
   ]
  },
  {
   "cell_type": "code",
   "execution_count": 2,
   "metadata": {
    "pycharm": {
     "name": "#%%\n"
    }
   },
   "outputs": [],
   "source": [
    "import sqlite3\n",
    "import pandas as pd\n",
    "import numpy as np"
   ]
  },
  {
   "cell_type": "code",
   "execution_count": 3,
   "metadata": {
    "pycharm": {
     "name": "#%%\n"
    }
   },
   "outputs": [],
   "source": [
    "# 3.1\n",
    "\n",
    "def fetch_table_names(db_conn):\n",
    "    cur = db_conn.cursor()\n",
    "    cur.execute('select DISTINCT tbl_name from sqlite_master')\n",
    "    return cur.fetchall()\n",
    "\n",
    "def fetch_table(db_conn, table):\n",
    "    header_query = \"SELECT name FROM pragma_table_info('\" + table + \"') ORDER BY cid;\"\n",
    "    cols_init = db_conn.cursor().execute(header_query).fetchall()\n",
    "    cols = [''.join(i) for i in cols_init]\n",
    "    result = db_conn.cursor().execute('select * from ' + table).fetchall()\n",
    "    return pd.DataFrame(result, columns=cols)"
   ]
  },
  {
   "cell_type": "code",
   "execution_count": 3,
   "metadata": {
    "pycharm": {
     "name": "#%%\n"
    }
   },
   "outputs": [
    {
     "name": "stdout",
     "output_type": "stream",
     "text": [
      "finished gen csv files\n"
     ]
    }
   ],
   "source": [
    "conn = sqlite3.connect('../data/BikeStoresDatabase.db')\n",
    "for table_name in fetch_table_names(conn):\n",
    "    table = ''.join(table_name)\n",
    "    fetch_table(conn, table).to_csv('../csv/'+table, index=False)\n",
    "\n",
    "conn.close()\n",
    "print('finished gen csv files')"
   ]
  },
  {
   "cell_type": "code",
   "execution_count": 4,
   "metadata": {
    "pycharm": {
     "name": "#%%\n"
    }
   },
   "outputs": [],
   "source": [
    "# 3.2\n",
    "\n",
    "def read_csv(table_name):\n",
    "    return pd.read_csv(f'../csv/{table_name}')"
   ]
  },
  {
   "cell_type": "code",
   "execution_count": 5,
   "metadata": {
    "pycharm": {
     "name": "#%%\n"
    }
   },
   "outputs": [
    {
     "data": {
      "text/html": [
       "<div>\n",
       "<style scoped>\n",
       "    .dataframe tbody tr th:only-of-type {\n",
       "        vertical-align: middle;\n",
       "    }\n",
       "\n",
       "    .dataframe tbody tr th {\n",
       "        vertical-align: top;\n",
       "    }\n",
       "\n",
       "    .dataframe thead th {\n",
       "        text-align: right;\n",
       "    }\n",
       "</style>\n",
       "<table border=\"1\" class=\"dataframe\">\n",
       "  <thead>\n",
       "    <tr style=\"text-align: right;\">\n",
       "      <th></th>\n",
       "      <th>first_name</th>\n",
       "      <th>last_name</th>\n",
       "      <th>order_id</th>\n",
       "    </tr>\n",
       "  </thead>\n",
       "  <tbody>\n",
       "    <tr>\n",
       "      <th>0</th>\n",
       "      <td>Debra</td>\n",
       "      <td>Burks</td>\n",
       "      <td>599</td>\n",
       "    </tr>\n",
       "    <tr>\n",
       "      <th>1</th>\n",
       "      <td>Debra</td>\n",
       "      <td>Burks</td>\n",
       "      <td>1555</td>\n",
       "    </tr>\n",
       "    <tr>\n",
       "      <th>2</th>\n",
       "      <td>Debra</td>\n",
       "      <td>Burks</td>\n",
       "      <td>1613</td>\n",
       "    </tr>\n",
       "    <tr>\n",
       "      <th>3</th>\n",
       "      <td>Kasha</td>\n",
       "      <td>Todd</td>\n",
       "      <td>692</td>\n",
       "    </tr>\n",
       "    <tr>\n",
       "      <th>4</th>\n",
       "      <td>Kasha</td>\n",
       "      <td>Todd</td>\n",
       "      <td>1084</td>\n",
       "    </tr>\n",
       "    <tr>\n",
       "      <th>...</th>\n",
       "      <td>...</td>\n",
       "      <td>...</td>\n",
       "      <td>...</td>\n",
       "    </tr>\n",
       "    <tr>\n",
       "      <th>1610</th>\n",
       "      <td>Jamaal</td>\n",
       "      <td>Morrison</td>\n",
       "      <td>1366</td>\n",
       "    </tr>\n",
       "    <tr>\n",
       "      <th>1611</th>\n",
       "      <td>Cassie</td>\n",
       "      <td>Cline</td>\n",
       "      <td>1036</td>\n",
       "    </tr>\n",
       "    <tr>\n",
       "      <th>1612</th>\n",
       "      <td>Lezlie</td>\n",
       "      <td>Lamb</td>\n",
       "      <td>558</td>\n",
       "    </tr>\n",
       "    <tr>\n",
       "      <th>1613</th>\n",
       "      <td>Ivette</td>\n",
       "      <td>Estes</td>\n",
       "      <td>616</td>\n",
       "    </tr>\n",
       "    <tr>\n",
       "      <th>1614</th>\n",
       "      <td>Ester</td>\n",
       "      <td>Acevedo</td>\n",
       "      <td>1424</td>\n",
       "    </tr>\n",
       "  </tbody>\n",
       "</table>\n",
       "<p>1615 rows × 3 columns</p>\n",
       "</div>"
      ],
      "text/plain": [
       "     first_name last_name  order_id\n",
       "0         Debra     Burks       599\n",
       "1         Debra     Burks      1555\n",
       "2         Debra     Burks      1613\n",
       "3         Kasha      Todd       692\n",
       "4         Kasha      Todd      1084\n",
       "...         ...       ...       ...\n",
       "1610     Jamaal  Morrison      1366\n",
       "1611     Cassie     Cline      1036\n",
       "1612     Lezlie      Lamb       558\n",
       "1613     Ivette     Estes       616\n",
       "1614      Ester   Acevedo      1424\n",
       "\n",
       "[1615 rows x 3 columns]"
      ]
     },
     "execution_count": 5,
     "metadata": {},
     "output_type": "execute_result"
    }
   ],
   "source": [
    "# Q1\n",
    "\n",
    "# select customers.first_name, customers.last_name, o.order_id from customers left outer join orders o on customers.customer_id = o.customer_id;\n",
    "df_customers = read_csv('customers')\n",
    "df_orders = read_csv('orders')\n",
    "\n",
    "merged = pd.merge(df_customers, df_orders, left_on='customer_id', right_on='customer_id', how='left')\n",
    "merged[['first_name', 'last_name', 'order_id']]"
   ]
  },
  {
   "cell_type": "code",
   "execution_count": 6,
   "metadata": {
    "pycharm": {
     "name": "#%%\n"
    }
   },
   "outputs": [
    {
     "name": "stdout",
     "output_type": "stream",
     "text": [
      "num null values: 1267\n"
     ]
    }
   ],
   "source": [
    "# Q2\n",
    "# select count(*) as n_null_values from customers where phone is null;\n",
    "n_null_values = len(df_customers[df_customers['phone'].isna()])\n",
    "print(f'num null values: {n_null_values}')"
   ]
  },
  {
   "cell_type": "code",
   "execution_count": 7,
   "metadata": {
    "pycharm": {
     "name": "#%%\n"
    }
   },
   "outputs": [
    {
     "data": {
      "text/html": [
       "<div>\n",
       "<style scoped>\n",
       "    .dataframe tbody tr th:only-of-type {\n",
       "        vertical-align: middle;\n",
       "    }\n",
       "\n",
       "    .dataframe tbody tr th {\n",
       "        vertical-align: top;\n",
       "    }\n",
       "\n",
       "    .dataframe thead th {\n",
       "        text-align: right;\n",
       "    }\n",
       "</style>\n",
       "<table border=\"1\" class=\"dataframe\">\n",
       "  <thead>\n",
       "    <tr style=\"text-align: right;\">\n",
       "      <th></th>\n",
       "      <th>first_name</th>\n",
       "      <th>last_name</th>\n",
       "    </tr>\n",
       "  </thead>\n",
       "  <tbody>\n",
       "    <tr>\n",
       "      <th>0</th>\n",
       "      <td>Fabiola</td>\n",
       "      <td>Jackson</td>\n",
       "    </tr>\n",
       "    <tr>\n",
       "      <th>3</th>\n",
       "      <td>Virgie</td>\n",
       "      <td>Wiggins</td>\n",
       "    </tr>\n",
       "    <tr>\n",
       "      <th>4</th>\n",
       "      <td>Jannette</td>\n",
       "      <td>David</td>\n",
       "    </tr>\n",
       "    <tr>\n",
       "      <th>9</th>\n",
       "      <td>Bernardine</td>\n",
       "      <td>Houston</td>\n",
       "    </tr>\n",
       "  </tbody>\n",
       "</table>\n",
       "</div>"
      ],
      "text/plain": [
       "   first_name last_name\n",
       "0     Fabiola   Jackson\n",
       "3      Virgie   Wiggins\n",
       "4    Jannette     David\n",
       "9  Bernardine   Houston"
      ]
     },
     "execution_count": 7,
     "metadata": {},
     "output_type": "execute_result"
    }
   ],
   "source": [
    "# Q3\n",
    "# select a.first_name, a.last_name from staffs a EXCEPT select b.first_name, b.last_name from staffs b, orders where b.staff_id=orders.staff_id;\n",
    "df_staffs = read_csv('staffs')\n",
    "\n",
    "staffs_with_orders = pd.merge(df_staffs, df_orders, on='staff_id')\n",
    "has_no_orders = ~df_staffs['staff_id'].isin(staffs_with_orders['staff_id'])\n",
    "df_staffs[has_no_orders][['first_name', 'last_name']]"
   ]
  },
  {
   "cell_type": "code",
   "execution_count": 8,
   "metadata": {
    "pycharm": {
     "name": "#%%\n"
    }
   },
   "outputs": [
    {
     "data": {
      "text/html": [
       "<div>\n",
       "<style scoped>\n",
       "    .dataframe tbody tr th:only-of-type {\n",
       "        vertical-align: middle;\n",
       "    }\n",
       "\n",
       "    .dataframe tbody tr th {\n",
       "        vertical-align: top;\n",
       "    }\n",
       "\n",
       "    .dataframe thead th {\n",
       "        text-align: right;\n",
       "    }\n",
       "</style>\n",
       "<table border=\"1\" class=\"dataframe\">\n",
       "  <thead>\n",
       "    <tr style=\"text-align: right;\">\n",
       "      <th></th>\n",
       "      <th>product_name</th>\n",
       "      <th>quantity</th>\n",
       "    </tr>\n",
       "  </thead>\n",
       "  <tbody>\n",
       "    <tr>\n",
       "      <th>0</th>\n",
       "      <td>Electra Moto 1 - 2016</td>\n",
       "      <td>3</td>\n",
       "    </tr>\n",
       "    <tr>\n",
       "      <th>1</th>\n",
       "      <td>Electra Amsterdam Original 3i - 2015/2017</td>\n",
       "      <td>3</td>\n",
       "    </tr>\n",
       "    <tr>\n",
       "      <th>2</th>\n",
       "      <td>Trek Marlin 6 - 2018</td>\n",
       "      <td>3</td>\n",
       "    </tr>\n",
       "    <tr>\n",
       "      <th>3</th>\n",
       "      <td>Trek Remedy 9.8 27.5 - 2018</td>\n",
       "      <td>3</td>\n",
       "    </tr>\n",
       "    <tr>\n",
       "      <th>4</th>\n",
       "      <td>Trek Remedy 9.8 27.5 - 2018</td>\n",
       "      <td>3</td>\n",
       "    </tr>\n",
       "  </tbody>\n",
       "</table>\n",
       "</div>"
      ],
      "text/plain": [
       "                                product_name  quantity\n",
       "0                      Electra Moto 1 - 2016         3\n",
       "1  Electra Amsterdam Original 3i - 2015/2017         3\n",
       "2                       Trek Marlin 6 - 2018         3\n",
       "3                Trek Remedy 9.8 27.5 - 2018         3\n",
       "4                Trek Remedy 9.8 27.5 - 2018         3"
      ]
     },
     "execution_count": 8,
     "metadata": {},
     "output_type": "execute_result"
    }
   ],
   "source": [
    "# Q4\n",
    "# select p.product_name, stocks.quantity from stocks inner join products p on stocks.product_id=p.product_id where quantity = 3;\n",
    "df_stocks = read_csv('stocks')\n",
    "df_products = read_csv('products')\n",
    "\n",
    "df_stocks = df_stocks[df_stocks['quantity'] == 3]\n",
    "stocks_x_products = pd.merge(df_stocks, df_products, on='product_id')\n",
    "\n",
    "# I use here head() function to make the table shorter for better reading\n",
    "stocks_x_products[['product_name', 'quantity']].head()"
   ]
  },
  {
   "cell_type": "code",
   "execution_count": 9,
   "metadata": {
    "pycharm": {
     "name": "#%%\n"
    }
   },
   "outputs": [
    {
     "data": {
      "text/html": [
       "<div>\n",
       "<style scoped>\n",
       "    .dataframe tbody tr th:only-of-type {\n",
       "        vertical-align: middle;\n",
       "    }\n",
       "\n",
       "    .dataframe tbody tr th {\n",
       "        vertical-align: top;\n",
       "    }\n",
       "\n",
       "    .dataframe thead th {\n",
       "        text-align: right;\n",
       "    }\n",
       "</style>\n",
       "<table border=\"1\" class=\"dataframe\">\n",
       "  <thead>\n",
       "    <tr style=\"text-align: right;\">\n",
       "      <th></th>\n",
       "      <th>category_name</th>\n",
       "      <th>n_products</th>\n",
       "    </tr>\n",
       "  </thead>\n",
       "  <tbody>\n",
       "    <tr>\n",
       "      <th>0</th>\n",
       "      <td>Children Bicycles</td>\n",
       "      <td>59</td>\n",
       "    </tr>\n",
       "    <tr>\n",
       "      <th>1</th>\n",
       "      <td>Comfort Bicycles</td>\n",
       "      <td>30</td>\n",
       "    </tr>\n",
       "    <tr>\n",
       "      <th>2</th>\n",
       "      <td>Cruisers Bicycles</td>\n",
       "      <td>78</td>\n",
       "    </tr>\n",
       "    <tr>\n",
       "      <th>3</th>\n",
       "      <td>Cyclocross Bicycles</td>\n",
       "      <td>10</td>\n",
       "    </tr>\n",
       "    <tr>\n",
       "      <th>4</th>\n",
       "      <td>Electric Bikes</td>\n",
       "      <td>24</td>\n",
       "    </tr>\n",
       "  </tbody>\n",
       "</table>\n",
       "</div>"
      ],
      "text/plain": [
       "         category_name  n_products\n",
       "0    Children Bicycles          59\n",
       "1     Comfort Bicycles          30\n",
       "2    Cruisers Bicycles          78\n",
       "3  Cyclocross Bicycles          10\n",
       "4       Electric Bikes          24"
      ]
     },
     "execution_count": 9,
     "metadata": {},
     "output_type": "execute_result"
    }
   ],
   "source": [
    "# Q5\n",
    "# select c.category_name, count() as n_products from products\n",
    "#     inner join categories c on c.category_id = products.category_id\n",
    "# group by c.category_name\n",
    "# limit 5;\n",
    "\n",
    "df_products = read_csv('products')\n",
    "df_categories = read_csv('categories')\n",
    "\n",
    "pd.merge(df_products, df_categories, on='category_id', how='inner')\\\n",
    "    .groupby('category_name')\\\n",
    "    .size()\\\n",
    "    .reset_index()\\\n",
    "    .rename(columns={0:'n_products'})\\\n",
    "    .head(5)\n",
    "\n",
    "# Reset_index makes category name a column and gives the possibility to rename count() column to n_products"
   ]
  },
  {
   "cell_type": "code",
   "execution_count": 10,
   "metadata": {
    "pycharm": {
     "name": "#%%\n"
    }
   },
   "outputs": [
    {
     "data": {
      "text/html": [
       "<div>\n",
       "<style scoped>\n",
       "    .dataframe tbody tr th:only-of-type {\n",
       "        vertical-align: middle;\n",
       "    }\n",
       "\n",
       "    .dataframe tbody tr th {\n",
       "        vertical-align: top;\n",
       "    }\n",
       "\n",
       "    .dataframe thead th {\n",
       "        text-align: right;\n",
       "    }\n",
       "</style>\n",
       "<table border=\"1\" class=\"dataframe\">\n",
       "  <thead>\n",
       "    <tr style=\"text-align: right;\">\n",
       "      <th></th>\n",
       "      <th>product_id</th>\n",
       "      <th>product_name</th>\n",
       "      <th>brand_id</th>\n",
       "      <th>category_id</th>\n",
       "      <th>model_year</th>\n",
       "      <th>list_price</th>\n",
       "    </tr>\n",
       "  </thead>\n",
       "  <tbody>\n",
       "    <tr>\n",
       "      <th>154</th>\n",
       "      <td>155</td>\n",
       "      <td>Trek Domane SLR 9 Disc - 2018</td>\n",
       "      <td>9</td>\n",
       "      <td>7</td>\n",
       "      <td>2018</td>\n",
       "      <td>11999.99</td>\n",
       "    </tr>\n",
       "    <tr>\n",
       "      <th>262</th>\n",
       "      <td>263</td>\n",
       "      <td>Strider Classic 12 Balance Bike - 2018</td>\n",
       "      <td>6</td>\n",
       "      <td>1</td>\n",
       "      <td>2018</td>\n",
       "      <td>89.99</td>\n",
       "    </tr>\n",
       "  </tbody>\n",
       "</table>\n",
       "</div>"
      ],
      "text/plain": [
       "     product_id                            product_name  brand_id  \\\n",
       "154         155           Trek Domane SLR 9 Disc - 2018         9   \n",
       "262         263  Strider Classic 12 Balance Bike - 2018         6   \n",
       "\n",
       "     category_id  model_year  list_price  \n",
       "154            7        2018    11999.99  \n",
       "262            1        2018       89.99  "
      ]
     },
     "execution_count": 10,
     "metadata": {},
     "output_type": "execute_result"
    }
   ],
   "source": [
    "# Q6\n",
    "# select * from products where list_price=(select min(list_price) from products) or list_price=(select max(list_price) from products);\n",
    "\n",
    "df_products[(df_products['list_price'] == df_products['list_price'].max()) | (df_products['list_price'] == df_products['list_price'].min())]"
   ]
  },
  {
   "cell_type": "code",
   "execution_count": 11,
   "metadata": {
    "pycharm": {
     "name": "#%%\n"
    }
   },
   "outputs": [
    {
     "data": {
      "text/html": [
       "<div>\n",
       "<style scoped>\n",
       "    .dataframe tbody tr th:only-of-type {\n",
       "        vertical-align: middle;\n",
       "    }\n",
       "\n",
       "    .dataframe tbody tr th {\n",
       "        vertical-align: top;\n",
       "    }\n",
       "\n",
       "    .dataframe thead th {\n",
       "        text-align: right;\n",
       "    }\n",
       "</style>\n",
       "<table border=\"1\" class=\"dataframe\">\n",
       "  <thead>\n",
       "    <tr style=\"text-align: right;\">\n",
       "      <th></th>\n",
       "      <th>staff_id</th>\n",
       "      <th>staff_name</th>\n",
       "      <th>manager_id</th>\n",
       "      <th>manager_name</th>\n",
       "    </tr>\n",
       "  </thead>\n",
       "  <tbody>\n",
       "    <tr>\n",
       "      <th>0</th>\n",
       "      <td>2</td>\n",
       "      <td>Mireya</td>\n",
       "      <td>1</td>\n",
       "      <td>Fabiola</td>\n",
       "    </tr>\n",
       "    <tr>\n",
       "      <th>1</th>\n",
       "      <td>5</td>\n",
       "      <td>Jannette</td>\n",
       "      <td>1</td>\n",
       "      <td>Fabiola</td>\n",
       "    </tr>\n",
       "    <tr>\n",
       "      <th>2</th>\n",
       "      <td>8</td>\n",
       "      <td>Kali</td>\n",
       "      <td>1</td>\n",
       "      <td>Fabiola</td>\n",
       "    </tr>\n",
       "    <tr>\n",
       "      <th>3</th>\n",
       "      <td>3</td>\n",
       "      <td>Genna</td>\n",
       "      <td>2</td>\n",
       "      <td>Mireya</td>\n",
       "    </tr>\n",
       "    <tr>\n",
       "      <th>4</th>\n",
       "      <td>4</td>\n",
       "      <td>Virgie</td>\n",
       "      <td>2</td>\n",
       "      <td>Mireya</td>\n",
       "    </tr>\n",
       "    <tr>\n",
       "      <th>5</th>\n",
       "      <td>6</td>\n",
       "      <td>Marcelene</td>\n",
       "      <td>5</td>\n",
       "      <td>Jannette</td>\n",
       "    </tr>\n",
       "    <tr>\n",
       "      <th>6</th>\n",
       "      <td>7</td>\n",
       "      <td>Venita</td>\n",
       "      <td>5</td>\n",
       "      <td>Jannette</td>\n",
       "    </tr>\n",
       "    <tr>\n",
       "      <th>7</th>\n",
       "      <td>9</td>\n",
       "      <td>Layla</td>\n",
       "      <td>7</td>\n",
       "      <td>Venita</td>\n",
       "    </tr>\n",
       "    <tr>\n",
       "      <th>8</th>\n",
       "      <td>10</td>\n",
       "      <td>Bernardine</td>\n",
       "      <td>7</td>\n",
       "      <td>Venita</td>\n",
       "    </tr>\n",
       "  </tbody>\n",
       "</table>\n",
       "</div>"
      ],
      "text/plain": [
       "   staff_id  staff_name  manager_id manager_name\n",
       "0         2      Mireya           1      Fabiola\n",
       "1         5    Jannette           1      Fabiola\n",
       "2         8        Kali           1      Fabiola\n",
       "3         3       Genna           2       Mireya\n",
       "4         4      Virgie           2       Mireya\n",
       "5         6   Marcelene           5     Jannette\n",
       "6         7      Venita           5     Jannette\n",
       "7         9       Layla           7       Venita\n",
       "8        10  Bernardine           7       Venita"
      ]
     },
     "execution_count": 11,
     "metadata": {},
     "output_type": "execute_result"
    }
   ],
   "source": [
    "# Q7\n",
    "# select a.staff_id as staff_id, a.first_name as staff_name, b.staff_id as manager_id, b.first_name as manager_name from staffs a, staffs b where a.manager_id=b.staff_id;\n",
    "\n",
    "df_staffs = read_csv('staffs')\n",
    "self_joined_staffs = pd.merge(df_staffs, df_staffs, left_on='manager_id', right_on='staff_id')\n",
    "\n",
    "staff_id='staff_id'\n",
    "staff_name='staff_name'\n",
    "manager_id='manager_id'\n",
    "manager_name='manager_name'\n",
    "\n",
    "renamed_columns=self_joined_staffs.rename(columns={'staff_id_x':staff_id, 'first_name_x':staff_name, 'staff_id_y':manager_id, 'first_name_y':manager_name})\n",
    "renamed_columns[[staff_id, staff_name, manager_id, manager_name]]"
   ]
  },
  {
   "cell_type": "markdown",
   "metadata": {
    "pycharm": {
     "name": "#%% md\n"
    }
   },
   "source": [
    "# Task 4"
   ]
  },
  {
   "cell_type": "markdown",
   "metadata": {
    "pycharm": {
     "name": "#%% md\n"
    }
   },
   "source": [
    "# Q1\n",
    "### A\n",
    "Definition of division in relational algebra:\n",
    "\n",
    "The division operator of relational algebra, “÷”, is defined as follows. Let r(R) and s(S) be relations, and let S ⊆ R; that is, every attribute of schema S is also in schema R.\n",
    "Given a tuple t, let t[S] denote the projection of tuple t on the attributes in S. Then r ÷ s is a relation on schema R − S (that is, on the schema containing all attributes of schema R that are not in schema S).\n",
    "A tuple t is in r ÷ s if and only if both of two conditions hold:\n",
    "- t is in ΠR−S(r)\n",
    "- For every tuple ts in s, there is a tuple tr in r satisfying both of the following:\n",
    "    - a. tr[S] = ts[S]\n",
    "    - b. tr[R − S] = t\n",
    "\n",
    "Own words:\n",
    "\n",
    "Division operator R ÷ S can be applied if and only if:\n",
    "- attributes of S is proper subset of attributes of R\n",
    "- the relation returned by division operator will have attributes = (all attributes of R - all attributes of S)\n",
    "- the relation returned by division operator will return those tuples from relation A which are associated to every S's tuple\n",
    "\n",
    "The relation returned by division operator will return those tuples from relation R which are associated to every S’s tuple.\n",
    "\n",
    "E.g. display all customers (R) id who have account <u>at all</u> branches (S) in city Amsterdam.\n",
    "\n",
    "### B\n",
    "R ÷ S is defined as: ∏R-S(r) − ∏R-S((∏R-S(r) x s) − ∏R-S,S(r))\n",
    "\n",
    "In our example of customers branches in city Amsterdam we can say the following:\n",
    "\n",
    "- r <- ∏ customers.customerId, account.bname (customers ⋈ customers.customerId=account.customerId account)\n",
    "- s <- ∏ bname (σ city='Amsterdam'(branches))\n",
    "\n",
    "- ∏R-S(r) is here ∏ customers.customerId (r) (no duplicate elements)\n",
    "- ∏R-S,S(r) is here ∏ customers.customerId, account.bname (r) = (The projection to get the fields in the right order for substraction)\n",
    "- ∏R-S(r) x s is here ∏ customers.customerId (r) x {bname 1, bname 2, ...}, all possible combinations on branches in city Amsterdam"
   ]
  },
  {
   "cell_type": "markdown",
   "metadata": {
    "pycharm": {
     "name": "#%% md\n"
    }
   },
   "source": [
    "# Q2\n",
    "(X ^ Y) v (~X ^ ~Y)"
   ]
  },
  {
   "cell_type": "markdown",
   "metadata": {
    "pycharm": {
     "name": "#%% md\n"
    }
   },
   "source": [
    "# Q3\n",
    "\n",
    "<p>(𝐴∨𝐵) ∧ (~𝐴 ∨ 𝐶) ∧ (𝐵 ∨ 𝐶) = (𝐴 ∨ 𝐵) ∧ (~𝐴 ∨ 𝐶)</p>\n",
    "\n",
    "| A\t| B | C | (A ∨ B) | (¬A ∨ C)| (B ∨ C) | LHS | RHS |\n",
    "|---|:-:|:---:| :---:|:---:|:---:|:---:|:---:|\n",
    "| 0\t| 0 | 0 | 0 | 1 | 0 | 0 | 0 |\n",
    "| 0\t| 0 | 1 | 0 | 1 | 1 | 0 | 0 |\n",
    "| 0\t| 1 | 0 | 1 | 1 | 1 | 1 | 1 |\n",
    "| 0\t| 1 | 1 | 1 | 1 | 1 | 1 | 1 |\n",
    "| 1\t| 0 | 0 | 1 | 0 | 0 | 0 | 0 |\n",
    "| 1\t| 0 | 1 | 1 | 1 | 1 | 1 | 1 |\n",
    "| 1\t| 1 | 0 | 1 | 0 | 1 | 0 | 0 |\n",
    "| 1\t| 1 | 1 | 1 | 1 | 1 | 1 | 1 |\n",
    "\n",
    "LHS=RHS"
   ]
  },
  {
   "cell_type": "code",
   "execution_count": null,
   "metadata": {
    "pycharm": {
     "name": "#%%\n"
    }
   },
   "outputs": [],
   "source": []
  }
 ],
 "metadata": {
  "kernelspec": {
   "display_name": "Python 3 (ipykernel)",
   "language": "python",
   "name": "python3"
  },
  "language_info": {
   "codemirror_mode": {
    "name": "ipython",
    "version": 3
   },
   "file_extension": ".py",
   "mimetype": "text/x-python",
   "name": "python",
   "nbconvert_exporter": "python",
   "pygments_lexer": "ipython3",
   "version": "3.7.0"
  }
 },
 "nbformat": 4,
 "nbformat_minor": 1
}
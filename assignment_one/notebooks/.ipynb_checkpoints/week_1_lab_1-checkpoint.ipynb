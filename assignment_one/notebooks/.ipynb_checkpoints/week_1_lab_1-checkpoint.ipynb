{
 "cells": [
  {
   "cell_type": "markdown",
   "metadata": {
    "pycharm": {
     "name": "#%% md\n"
    }
   },
   "source": [
    "# Assignment 1: Data Extraction"
   ]
  },
  {
   "cell_type": "markdown",
   "metadata": {
    "pycharm": {
     "name": "#%% md\n"
    }
   },
   "source": [
    "# Task 1\n",
    "\n",
    "[link to database](https://www.db-book.com/db7/university-lab-dir/sqlite-tips.html)\n",
    "\n",
    "| db     | amount |\n",
    "| -------|:----:|\n",
    "| tables | 12   |"
   ]
  },
  {
   "cell_type": "markdown",
   "metadata": {},
   "source": [
    "| Table        | rows |\n",
    "| ------------ |:----:|\n",
    "| advisor      | 9    |\n",
    "| classroom    | 5    |\n",
    "| course       | 13   |\n",
    "| department   | 7    |\n",
    "| instructor   | 12   |\n",
    "| prereq       | 7    |\n",
    "| section      | 15   |\n",
    "| student      | 13   |\n",
    "| takes        | 22   |\n",
    "| teaches      | 15   |\n",
    "| time_slot    | 20   |"
   ]
  },
  {
   "cell_type": "markdown",
   "metadata": {
    "pycharm": {
     "name": "#%% md\n"
    }
   },
   "source": [
    "# TASK 2"
   ]
  },
  {
   "cell_type": "markdown",
   "metadata": {
    "pycharm": {
     "name": "#%% md\n"
    }
   },
   "source": [
    "## Q1\n",
    "\n",
    "### NL\n",
    "<p>\n",
    "we would like to know the instructor name and the department he/she works in\n",
    "first of all we select the relation instructor to left outer join with department where we equal the depart_name keys\n",
    "so from instructor foreign key depart_name equal department primary key depart_name</p>\n",
    "\n",
    "### RA\n",
    "∏ r.name, t.dept_name (Pr(instructor) ⨝ r.dept_name=t.dept_name Pt(department))\n",
    "\n",
    "### SQL query\n",
    "select R.name, T.dept_name from instructor R left join department T on R.dept_name=T.dept_name;"
   ]
  },
  {
   "cell_type": "markdown",
   "metadata": {
    "pycharm": {
     "name": "#%% md\n"
    }
   },
   "source": [
    "# Q2\n",
    "\n",
    "### NL\n",
    "first select the table and define the attribute and count operator u would like to count the null values by defining the conditional expression in the where\n",
    "\n",
    "### RA\n",
    "∏ ∑num_null_values (Pnum_null_values(σ takes.grade=null (takes)))\n",
    "\n",
    "### SQL\n",
    "select count() num_null_values from takes where grade is null;"
   ]
  },
  {
   "cell_type": "markdown",
   "metadata": {
    "pycharm": {
     "name": "#%% md\n"
    }
   },
   "source": [
    "# Q3\n",
    "\n",
    "### NL\n",
    "we would like to now if a student has taken any course\n",
    "first we query all students taken a course and compare that with the list of all students to get only the\n",
    "the students who dont have taken a course\n",
    "\n",
    "### RA\n",
    "∏ a.ID, a.name, a.dept_name (Pa(student) - (∏ s.ID, s.name, s.dept_name ( σ s.ID=takes.ID Ps(student) X takes)))\n",
    "\n",
    "### SQL\n",
    "select a.ID, name, dept_name from student a EXCEPT select s.ID, name, dept_name from student s, takes where s.ID=takes.ID;\n"
   ]
  },
  {
   "cell_type": "markdown",
   "metadata": {
    "pycharm": {
     "name": "#%% md\n"
    }
   },
   "source": [
    "# Q4\n",
    "\n",
    "# NL\n",
    "we would like to know which departments has only 1 student\n",
    "first we define a subquery to fetch count of students on each department and then we define the\n",
    "conditional expression by using a alias n_students equal to 1\n",
    "\n",
    "### RA\n",
    "∏ student.dept_name ( σ n_students=1 ( ∑ Pn_students( σ student.dept_name=department.dept_name (student) ) ) (department))\n",
    "\n",
    "### SQL\n",
    "select dept_name, (select count() from student\n",
    "where student.dept_name=department.dept_name) n_students from department where n_students = 1;"
   ]
  },
  {
   "cell_type": "markdown",
   "metadata": {
    "pycharm": {
     "name": "#%% md\n"
    }
   },
   "source": [
    "# Q5\n",
    "### NL\n",
    "\n",
    "### RA\n",
    "\n",
    "### SQL"
   ]
  },
  {
   "cell_type": "markdown",
   "metadata": {
    "pycharm": {
     "name": "#%% md\n"
    }
   },
   "source": [
    "# Q6\n",
    "\n",
    "### NL\n",
    "we would like to see the max and min (numerical values) of a attribute of a relation\n",
    "\n",
    "### RA\n",
    "∏ Pmax_salary(∏ salary (σ instructor)), Pmin_salary(∏ salary (σ instructor))\n",
    "\n",
    "### SQL\n",
    "select max(salary) max_salary, min(salary) min_salary from instructor;"
   ]
  },
  {
   "cell_type": "markdown",
   "metadata": {
    "pycharm": {
     "name": "#%% md\n"
    }
   },
   "source": [
    "# Q7\n",
    "### NL\n",
    "\n",
    "### RA\n",
    "σ x.course_id=c.course_id (Px(course) X Pc(course))\n",
    "\n",
    "### SQL\n",
    "select * from course c, course x where c.course_id=x.course_id;"
   ]
  },
  {
   "cell_type": "markdown",
   "metadata": {},
   "source": [
    "# TASK 3"
   ]
  },
  {
   "cell_type": "code",
   "execution_count": 5,
   "metadata": {
    "pycharm": {
     "name": "#%%\n"
    }
   },
   "outputs": [],
   "source": [
    "import sqlite3\n",
    "import pandas as pd"
   ]
  },
  {
   "cell_type": "code",
   "execution_count": 6,
   "metadata": {
    "pycharm": {
     "name": "#%%\n"
    }
   },
   "outputs": [],
   "source": [
    "# Q1\n",
    "\n",
    "def fetch_table_names(db_conn):\n",
    "    cur = conn.cursor()\n",
    "    cur.execute('select DISTINCT tbl_name from ' + 'sqlite_master')\n",
    "    return cur.fetchall()\n",
    "\n",
    "def fetch_table_as_df(db_conn, table):\n",
    "    header_query = \"SELECT name FROM pragma_table_info('\" + table + \"') ORDER BY cid;\"\n",
    "    cols_init = db_conn.cursor().execute(header_query).fetchall()\n",
    "    cols = [''.join(i) for i in cols_init]\n",
    "    result = db_conn.cursor().execute('select * from ' + table).fetchall()\n",
    "    return pd.DataFrame(result, columns=cols)"
   ]
  },
  {
   "cell_type": "code",
   "execution_count": 9,
   "metadata": {
    "pycharm": {
     "name": "#%%\n"
    }
   },
   "outputs": [
    {
     "name": "stdout",
     "output_type": "stream",
     "text": [
      "finished gen csv files\n"
     ]
    }
   ],
   "source": [
    "conn = sqlite3.connect('../data/univdb-sqlite.db')\n",
    "\n",
    "for table_name in fetch_table_names(conn):\n",
    "    table = ''.join(table_name)\n",
    "    fetch_table_as_df(conn, table).to_csv('../csv/'+table)\n",
    "\n",
    "print('finished gen csv files')"
   ]
  },
  {
   "cell_type": "code",
   "execution_count": 7,
   "metadata": {
    "pycharm": {
     "name": "#%%\n"
    }
   },
   "outputs": [],
   "source": [
    "# Q2\n",
    "#\n",
    "def fetch_table(conn, table_name):\n",
    "    return fetch_table_as_df(conn, table_name)"
   ]
  },
  {
   "cell_type": "code",
   "execution_count": 15,
   "metadata": {
    "pycharm": {
     "name": "#%%\n"
    }
   },
   "outputs": [
    {
     "data": {
      "text/html": [
       "<div>\n",
       "<style scoped>\n",
       "    .dataframe tbody tr th:only-of-type {\n",
       "        vertical-align: middle;\n",
       "    }\n",
       "\n",
       "    .dataframe tbody tr th {\n",
       "        vertical-align: top;\n",
       "    }\n",
       "\n",
       "    .dataframe thead th {\n",
       "        text-align: right;\n",
       "    }\n",
       "</style>\n",
       "<table border=\"1\" class=\"dataframe\">\n",
       "  <thead>\n",
       "    <tr style=\"text-align: right;\">\n",
       "      <th></th>\n",
       "      <th>name</th>\n",
       "      <th>dept_name</th>\n",
       "    </tr>\n",
       "  </thead>\n",
       "  <tbody>\n",
       "    <tr>\n",
       "      <th>0</th>\n",
       "      <td>Srinivasan</td>\n",
       "      <td>Comp. Sci.</td>\n",
       "    </tr>\n",
       "    <tr>\n",
       "      <th>1</th>\n",
       "      <td>Wu</td>\n",
       "      <td>Finance</td>\n",
       "    </tr>\n",
       "    <tr>\n",
       "      <th>2</th>\n",
       "      <td>Mozart</td>\n",
       "      <td>Music</td>\n",
       "    </tr>\n",
       "    <tr>\n",
       "      <th>3</th>\n",
       "      <td>Einstein</td>\n",
       "      <td>Physics</td>\n",
       "    </tr>\n",
       "    <tr>\n",
       "      <th>4</th>\n",
       "      <td>El Said</td>\n",
       "      <td>History</td>\n",
       "    </tr>\n",
       "    <tr>\n",
       "      <th>5</th>\n",
       "      <td>Gold</td>\n",
       "      <td>Physics</td>\n",
       "    </tr>\n",
       "    <tr>\n",
       "      <th>6</th>\n",
       "      <td>Katz</td>\n",
       "      <td>Comp. Sci.</td>\n",
       "    </tr>\n",
       "    <tr>\n",
       "      <th>7</th>\n",
       "      <td>Califieri</td>\n",
       "      <td>History</td>\n",
       "    </tr>\n",
       "    <tr>\n",
       "      <th>8</th>\n",
       "      <td>Singh</td>\n",
       "      <td>Finance</td>\n",
       "    </tr>\n",
       "    <tr>\n",
       "      <th>9</th>\n",
       "      <td>Crick</td>\n",
       "      <td>Biology</td>\n",
       "    </tr>\n",
       "    <tr>\n",
       "      <th>10</th>\n",
       "      <td>Brandt</td>\n",
       "      <td>Comp. Sci.</td>\n",
       "    </tr>\n",
       "    <tr>\n",
       "      <th>11</th>\n",
       "      <td>Kim</td>\n",
       "      <td>Elec. Eng.</td>\n",
       "    </tr>\n",
       "  </tbody>\n",
       "</table>\n",
       "</div>"
      ],
      "text/plain": [
       "          name   dept_name\n",
       "0   Srinivasan  Comp. Sci.\n",
       "1           Wu     Finance\n",
       "2       Mozart       Music\n",
       "3     Einstein     Physics\n",
       "4      El Said     History\n",
       "5         Gold     Physics\n",
       "6         Katz  Comp. Sci.\n",
       "7    Califieri     History\n",
       "8        Singh     Finance\n",
       "9        Crick     Biology\n",
       "10      Brandt  Comp. Sci.\n",
       "11         Kim  Elec. Eng."
      ]
     },
     "execution_count": 15,
     "metadata": {},
     "output_type": "execute_result"
    }
   ],
   "source": [
    "# select R.name, T.dept_name from instructor R left join department T on R.dept_name=T.dept_name;\n",
    "df_instructor = fetch_table(conn, 'instructor')\n",
    "df_department = fetch_table(conn, 'department')\n",
    "\n",
    "merged = pd.merge(df_instructor, df_department, left_on='dept_name', right_on='dept_name', how='left')\n",
    "merged[['name', 'dept_name']]"
   ]
  },
  {
   "cell_type": "code",
   "execution_count": 20,
   "metadata": {
    "pycharm": {
     "name": "#%%\n"
    }
   },
   "outputs": [
    {
     "name": "stdout",
     "output_type": "stream",
     "text": [
      "num null values: 1\n"
     ]
    }
   ],
   "source": [
    "# select count() num_null_values from takes where grade is null;\n",
    "df_takes = fetch_table(conn, 'takes')\n",
    "n_null_values = len(df_takes[df_takes['grade'].isna()])\n",
    "print(f'num null values: {n_null_values}')"
   ]
  },
  {
   "cell_type": "code",
   "execution_count": 77,
   "metadata": {
    "pycharm": {
     "name": "#%%\n"
    }
   },
   "outputs": [
    {
     "data": {
      "text/plain": [
       "dept_name\n",
       "Biology    1\n",
       "Finance    1\n",
       "History    1\n",
       "Music      1\n",
       "dtype: int64"
      ]
     },
     "execution_count": 77,
     "metadata": {},
     "output_type": "execute_result"
    }
   ],
   "source": [
    "# select dept_name, (select count() from student\n",
    "# where student.dept_name=department.dept_name) n_students from department where n_students = 1;\n",
    "import numpy as np\n",
    "df_student = fetch_table(conn, 'student')\n",
    "aggregated = pd.merge(df_department, df_student, on='dept_name').groupby('dept_name').size()\n",
    "aggregated[aggregated == 1]"
   ]
  },
  {
   "cell_type": "code",
   "execution_count": 78,
   "metadata": {
    "pycharm": {
     "name": "#%%\n"
    }
   },
   "outputs": [
    {
     "data": {
      "text/plain": [
       "dept_name\n",
       "Biology       1\n",
       "Comp. Sci.    4\n",
       "Elec. Eng.    2\n",
       "Finance       1\n",
       "History       1\n",
       "Music         1\n",
       "Physics       3\n",
       "dtype: int64"
      ]
     },
     "execution_count": 78,
     "metadata": {},
     "output_type": "execute_result"
    }
   ],
   "source": [
    "# group by on category\n",
    "df_student.groupby('dept_name').size()"
   ]
  },
  {
   "cell_type": "code",
   "execution_count": 101,
   "metadata": {
    "pycharm": {
     "name": "#%%\n"
    }
   },
   "outputs": [
    {
     "data": {
      "text/html": [
       "<div>\n",
       "<style scoped>\n",
       "    .dataframe tbody tr th:only-of-type {\n",
       "        vertical-align: middle;\n",
       "    }\n",
       "\n",
       "    .dataframe tbody tr th {\n",
       "        vertical-align: top;\n",
       "    }\n",
       "\n",
       "    .dataframe thead th {\n",
       "        text-align: right;\n",
       "    }\n",
       "</style>\n",
       "<table border=\"1\" class=\"dataframe\">\n",
       "  <thead>\n",
       "    <tr style=\"text-align: right;\">\n",
       "      <th></th>\n",
       "      <th>max_salary</th>\n",
       "      <th>min_salary</th>\n",
       "    </tr>\n",
       "  </thead>\n",
       "  <tbody>\n",
       "    <tr>\n",
       "      <th>salary</th>\n",
       "      <td>95000</td>\n",
       "      <td>40000</td>\n",
       "    </tr>\n",
       "  </tbody>\n",
       "</table>\n",
       "</div>"
      ],
      "text/plain": [
       "        max_salary  min_salary\n",
       "salary       95000       40000"
      ]
     },
     "execution_count": 101,
     "metadata": {},
     "output_type": "execute_result"
    }
   ],
   "source": [
    "# select max(salary) max_salary, min(salary) min_salary from instructor;\n",
    "\n",
    "df_instructor.agg(max_salary=('salary', np.max), min_salary=('salary', np.min)).T"
   ]
  },
  {
   "cell_type": "code",
   "execution_count": 106,
   "metadata": {
    "pycharm": {
     "name": "#%%\n"
    }
   },
   "outputs": [
    {
     "data": {
      "text/html": [
       "<div>\n",
       "<style scoped>\n",
       "    .dataframe tbody tr th:only-of-type {\n",
       "        vertical-align: middle;\n",
       "    }\n",
       "\n",
       "    .dataframe tbody tr th {\n",
       "        vertical-align: top;\n",
       "    }\n",
       "\n",
       "    .dataframe thead th {\n",
       "        text-align: right;\n",
       "    }\n",
       "</style>\n",
       "<table border=\"1\" class=\"dataframe\">\n",
       "  <thead>\n",
       "    <tr style=\"text-align: right;\">\n",
       "      <th></th>\n",
       "      <th>course_id</th>\n",
       "      <th>title_x</th>\n",
       "      <th>dept_name_x</th>\n",
       "      <th>credits_x</th>\n",
       "      <th>title_y</th>\n",
       "      <th>dept_name_y</th>\n",
       "      <th>credits_y</th>\n",
       "    </tr>\n",
       "  </thead>\n",
       "  <tbody>\n",
       "    <tr>\n",
       "      <th>0</th>\n",
       "      <td>BIO-101</td>\n",
       "      <td>Intro. to Biology</td>\n",
       "      <td>Biology</td>\n",
       "      <td>4</td>\n",
       "      <td>Intro. to Biology</td>\n",
       "      <td>Biology</td>\n",
       "      <td>4</td>\n",
       "    </tr>\n",
       "    <tr>\n",
       "      <th>1</th>\n",
       "      <td>BIO-301</td>\n",
       "      <td>Genetics</td>\n",
       "      <td>Biology</td>\n",
       "      <td>4</td>\n",
       "      <td>Genetics</td>\n",
       "      <td>Biology</td>\n",
       "      <td>4</td>\n",
       "    </tr>\n",
       "    <tr>\n",
       "      <th>2</th>\n",
       "      <td>BIO-399</td>\n",
       "      <td>Computational Biology</td>\n",
       "      <td>Biology</td>\n",
       "      <td>3</td>\n",
       "      <td>Computational Biology</td>\n",
       "      <td>Biology</td>\n",
       "      <td>3</td>\n",
       "    </tr>\n",
       "    <tr>\n",
       "      <th>3</th>\n",
       "      <td>CS-101</td>\n",
       "      <td>Intro. to Computer Science</td>\n",
       "      <td>Comp. Sci.</td>\n",
       "      <td>4</td>\n",
       "      <td>Intro. to Computer Science</td>\n",
       "      <td>Comp. Sci.</td>\n",
       "      <td>4</td>\n",
       "    </tr>\n",
       "    <tr>\n",
       "      <th>4</th>\n",
       "      <td>CS-190</td>\n",
       "      <td>Game Design</td>\n",
       "      <td>Comp. Sci.</td>\n",
       "      <td>4</td>\n",
       "      <td>Game Design</td>\n",
       "      <td>Comp. Sci.</td>\n",
       "      <td>4</td>\n",
       "    </tr>\n",
       "    <tr>\n",
       "      <th>5</th>\n",
       "      <td>CS-315</td>\n",
       "      <td>Robotics</td>\n",
       "      <td>Comp. Sci.</td>\n",
       "      <td>3</td>\n",
       "      <td>Robotics</td>\n",
       "      <td>Comp. Sci.</td>\n",
       "      <td>3</td>\n",
       "    </tr>\n",
       "    <tr>\n",
       "      <th>6</th>\n",
       "      <td>CS-319</td>\n",
       "      <td>Image Processing</td>\n",
       "      <td>Comp. Sci.</td>\n",
       "      <td>3</td>\n",
       "      <td>Image Processing</td>\n",
       "      <td>Comp. Sci.</td>\n",
       "      <td>3</td>\n",
       "    </tr>\n",
       "    <tr>\n",
       "      <th>7</th>\n",
       "      <td>CS-347</td>\n",
       "      <td>Database System Concepts</td>\n",
       "      <td>Comp. Sci.</td>\n",
       "      <td>3</td>\n",
       "      <td>Database System Concepts</td>\n",
       "      <td>Comp. Sci.</td>\n",
       "      <td>3</td>\n",
       "    </tr>\n",
       "    <tr>\n",
       "      <th>8</th>\n",
       "      <td>EE-181</td>\n",
       "      <td>Intro. to Digital Systems</td>\n",
       "      <td>Elec. Eng.</td>\n",
       "      <td>3</td>\n",
       "      <td>Intro. to Digital Systems</td>\n",
       "      <td>Elec. Eng.</td>\n",
       "      <td>3</td>\n",
       "    </tr>\n",
       "    <tr>\n",
       "      <th>9</th>\n",
       "      <td>FIN-201</td>\n",
       "      <td>Investment Banking</td>\n",
       "      <td>Finance</td>\n",
       "      <td>3</td>\n",
       "      <td>Investment Banking</td>\n",
       "      <td>Finance</td>\n",
       "      <td>3</td>\n",
       "    </tr>\n",
       "    <tr>\n",
       "      <th>10</th>\n",
       "      <td>HIS-351</td>\n",
       "      <td>World History</td>\n",
       "      <td>History</td>\n",
       "      <td>3</td>\n",
       "      <td>World History</td>\n",
       "      <td>History</td>\n",
       "      <td>3</td>\n",
       "    </tr>\n",
       "    <tr>\n",
       "      <th>11</th>\n",
       "      <td>MU-199</td>\n",
       "      <td>Music Video Production</td>\n",
       "      <td>Music</td>\n",
       "      <td>3</td>\n",
       "      <td>Music Video Production</td>\n",
       "      <td>Music</td>\n",
       "      <td>3</td>\n",
       "    </tr>\n",
       "    <tr>\n",
       "      <th>12</th>\n",
       "      <td>PHY-101</td>\n",
       "      <td>Physical Principles</td>\n",
       "      <td>Physics</td>\n",
       "      <td>4</td>\n",
       "      <td>Physical Principles</td>\n",
       "      <td>Physics</td>\n",
       "      <td>4</td>\n",
       "    </tr>\n",
       "  </tbody>\n",
       "</table>\n",
       "</div>"
      ],
      "text/plain": [
       "   course_id                     title_x dept_name_x  credits_x  \\\n",
       "0    BIO-101           Intro. to Biology     Biology          4   \n",
       "1    BIO-301                    Genetics     Biology          4   \n",
       "2    BIO-399       Computational Biology     Biology          3   \n",
       "3     CS-101  Intro. to Computer Science  Comp. Sci.          4   \n",
       "4     CS-190                 Game Design  Comp. Sci.          4   \n",
       "5     CS-315                    Robotics  Comp. Sci.          3   \n",
       "6     CS-319            Image Processing  Comp. Sci.          3   \n",
       "7     CS-347    Database System Concepts  Comp. Sci.          3   \n",
       "8     EE-181   Intro. to Digital Systems  Elec. Eng.          3   \n",
       "9    FIN-201          Investment Banking     Finance          3   \n",
       "10   HIS-351               World History     History          3   \n",
       "11    MU-199      Music Video Production       Music          3   \n",
       "12   PHY-101         Physical Principles     Physics          4   \n",
       "\n",
       "                       title_y dept_name_y  credits_y  \n",
       "0            Intro. to Biology     Biology          4  \n",
       "1                     Genetics     Biology          4  \n",
       "2        Computational Biology     Biology          3  \n",
       "3   Intro. to Computer Science  Comp. Sci.          4  \n",
       "4                  Game Design  Comp. Sci.          4  \n",
       "5                     Robotics  Comp. Sci.          3  \n",
       "6             Image Processing  Comp. Sci.          3  \n",
       "7     Database System Concepts  Comp. Sci.          3  \n",
       "8    Intro. to Digital Systems  Elec. Eng.          3  \n",
       "9           Investment Banking     Finance          3  \n",
       "10               World History     History          3  \n",
       "11      Music Video Production       Music          3  \n",
       "12         Physical Principles     Physics          4  "
      ]
     },
     "execution_count": 106,
     "metadata": {},
     "output_type": "execute_result"
    }
   ],
   "source": [
    "# select * from course c, course x where c.course_id=x.course_id;\n",
    "\n",
    "df_course = fetch_table(conn, 'course')\n",
    "pd.merge(df_course, df_course, on='course_id')"
   ]
  },
  {
   "cell_type": "code",
   "execution_count": 44,
   "metadata": {
    "pycharm": {
     "name": "#%%\n"
    }
   },
   "outputs": [],
   "source": [
    "# Task 4"
   ]
  },
  {
   "cell_type": "code",
   "execution_count": 45,
   "metadata": {
    "pycharm": {
     "name": "#%%\n"
    }
   },
   "outputs": [],
   "source": [
    "# Q1\n",
    "# A\n",
    "# B\n",
    "# ∏: A projection is basically a set of attributes which u would like to have in a the returned relation\n",
    "# ⨝: A join is a Cartesian Product of 2 or more relations reflected as 1 relation joined on their superkeys\n",
    "# -: A difference returns a relation where the left relation doesnt match the right relation"
   ]
  },
  {
   "cell_type": "code",
   "execution_count": 46,
   "metadata": {
    "pycharm": {
     "name": "#%%\n"
    }
   },
   "outputs": [],
   "source": [
    "# Q2\n",
    "# (X ^ Y)\n",
    "# (X ^ Y)\n",
    "# (X ^ Y)\n",
    "# ~(X ^ Y)"
   ]
  },
  {
   "cell_type": "code",
   "execution_count": null,
   "metadata": {
    "pycharm": {
     "name": "#%%\n"
    }
   },
   "outputs": [],
   "source": [
    "# Q3\n"
   ]
  }
 ],
 "metadata": {
  "kernelspec": {
   "display_name": "Python 3 (ipykernel)",
   "language": "python",
   "name": "python3"
  },
  "language_info": {
   "codemirror_mode": {
    "name": "ipython",
    "version": 3
   },
   "file_extension": ".py",
   "mimetype": "text/x-python",
   "name": "python",
   "nbconvert_exporter": "python",
   "pygments_lexer": "ipython3",
   "version": "3.7.0"
  }
 },
 "nbformat": 4,
 "nbformat_minor": 1
}
